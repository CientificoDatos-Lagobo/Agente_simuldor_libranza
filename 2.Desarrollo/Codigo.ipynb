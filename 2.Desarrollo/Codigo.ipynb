{
 "cells": [
  {
   "cell_type": "markdown",
   "id": "9d13cb00",
   "metadata": {},
   "source": [
    "# 1. Librerias"
   ]
  },
  {
   "cell_type": "code",
   "execution_count": null,
   "id": "0996d6fa",
   "metadata": {},
   "outputs": [],
   "source": [
    "import pandas as pd\n",
    "import calendar\n",
    "from datetime import datetime\n",
    "from dateutil.relativedelta import relativedelta\n",
    "from sqlalchemy import create_engine\n",
    "import pandas as pd\n",
    "import os\n",
    "import os\n",
    "import pandas as pd\n",
    "from sqlalchemy import create_engine\n",
    "from sqlalchemy.pool import NullPool\n",
    "import pandas as pd\n",
    "from datetime import datetime"
   ]
  },
  {
   "cell_type": "markdown",
   "id": "6dc15b45",
   "metadata": {},
   "source": [
    "# 2. Descargar la base de datos"
   ]
  },
  {
   "cell_type": "code",
   "execution_count": 125,
   "id": "501ce0af",
   "metadata": {},
   "outputs": [
    {
     "name": "stdout",
     "output_type": "stream",
     "text": [
      "✅ Archivos descargados y leídos correctamente.\n"
     ]
    }
   ],
   "source": [
    "### DECARGAR DATAS ###\n",
    "\n",
    "# URLs correctas (versión raw)\n",
    "url_data_final = \"https://raw.githubusercontent.com/CientificoDatos-Lagobo/Agente_simuldor_libranza/main/3.Subir_datos/1.Base_capital/data/Data_final.xlsx\"\n",
    "url_fecha_pagaduria = \"https://raw.githubusercontent.com/CientificoDatos-Lagobo/Agente_simuldor_libranza/main/3.Subir_datos/2.Fechas_pagadurias/Fecha_pagaduria.xlsx\"\n",
    "url_tasa_usura = \"https://raw.githubusercontent.com/CientificoDatos-Lagobo/Agente_simuldor_libranza/main/3.Subir_datos/3.Tasa_usura/Tasa_usura.xlsx\"\n",
    "\n",
    "\n",
    "try:\n",
    "    # Leer archivos\n",
    "    df_data_final = pd.read_excel(url_data_final)\n",
    "    data_pagaduria = pd.read_excel(url_fecha_pagaduria)\n",
    "    df_tasa_usura = pd.read_excel(url_tasa_usura)\n",
    "\n",
    "    # Mensaje de éxito\n",
    "    print(\"✅ Archivos descargados y leídos correctamente.\")\n",
    "except Exception as e:\n",
    "    # Mensaje de error\n",
    "    print(f\"❌ Error al descargar o leer los archivos: {e}\")"
   ]
  },
  {
   "cell_type": "markdown",
   "id": "a0abffe5",
   "metadata": {},
   "source": [
    "# 3. Obtener informacion inicial"
   ]
  },
  {
   "cell_type": "code",
   "execution_count": 126,
   "id": "6b92e156",
   "metadata": {},
   "outputs": [],
   "source": [
    "nro_libranza = 43827"
   ]
  },
  {
   "cell_type": "code",
   "execution_count": 127,
   "id": "fe9859ec",
   "metadata": {},
   "outputs": [
    {
     "name": "stdout",
     "output_type": "stream",
     "text": [
      "✅ Datos del credito filtrados correctamente.\n"
     ]
    }
   ],
   "source": [
    "### FILTRAR DATOS DEL CREDITO A SMILULAR ###\n",
    "\n",
    "try:\n",
    "    # Filtrar datos del credito específico\n",
    "    data = df_data_final[df_data_final[\"nolibra\"] == nro_libranza]\n",
    "\n",
    "    # Mensaje de éxito\n",
    "    print(\"✅ Datos del credito filtrados correctamente.\")\n",
    "except Exception as e:\n",
    "    # Mensaje de error\n",
    "    print(f\"❌ Error al filtrar los datos del credito: {e}\")\n"
   ]
  },
  {
   "cell_type": "code",
   "execution_count": 128,
   "id": "c6a8cb14",
   "metadata": {},
   "outputs": [
    {
     "name": "stdout",
     "output_type": "stream",
     "text": [
      "✅ Variables de entorno obtenidas correctamente.\n"
     ]
    }
   ],
   "source": [
    "### VARIABLES Y PARAMETROS PARA LA SIMULACION ###\n",
    "\n",
    "try:\n",
    "\n",
    "    # Obtener fecha actual\n",
    "    hoy = datetime.today()\n",
    "\n",
    "    # Obtener pagaduría según libranza\n",
    "    pagaduria = data.loc[data[\"nolibra\"] == nro_libranza, \"pagaduria\"].values[0]\n",
    "\n",
    "    # Monto total del préstamo\n",
    "    monto_prestado = data.loc[data[\"nolibra\"] == nro_libranza, \"base_capital\"].values[0]\n",
    "\n",
    "    # Tasa mensual nominal (decimal)\n",
    "    tasa_mensual = data.loc[data[\"nolibra\"] == nro_libranza, \"tasa_credito\"].values[0]\n",
    "\n",
    "    # Plazo en meses\n",
    "    plazo_meses = data.loc[data[\"nolibra\"] == nro_libranza, \"plazo\"].values[0]\n",
    "    plazo = plazo_meses  # para usar un nombre corto\n",
    "\n",
    "    # Seguro deudor mensual\n",
    "    seguro_deudor = data.loc[data[\"nolibra\"] == nro_libranza, \"seguro_deudores\"].values[0] / plazo_meses\n",
    "\n",
    "    # Fecha inicio crédito (datetime)\n",
    "    fecha1 = pd.to_datetime(data.loc[data[\"nolibra\"] == nro_libranza, \"fecha_inicio_credito\"].values[0])\n",
    "    fecha2 = pd.to_datetime(data.loc[data[\"nolibra\"] == nro_libranza, \"fecha_primer_pago\"].values[0])\n",
    "    fecha_inicio = min(fecha1, fecha2) # Asegurar que sea la fecha más temprana\n",
    "\n",
    "    # Saldo cierre mes 0\n",
    "    saldo_cierre_mes_0 = data.loc[data[\"nolibra\"] == nro_libranza, \"saldo_cierre_mes_0\"].values[0]\n",
    "\n",
    "    # Cuotas pagas mes\n",
    "    cuotas_paga_mes = data.loc[data[\"nolibra\"] == nro_libranza, \"cuotas_pagas\"].values[0]\n",
    "\n",
    "    # Cuota definida\n",
    "    cuotadef = data.loc[data[\"nolibra\"] == nro_libranza, \"cuota_definida\"].values[0]\n",
    "\n",
    "    # Mensaje\n",
    "    print(f\"✅ Variables de entorno obtenidas correctamente.\")\n",
    "\n",
    "except Exception as e:\n",
    "    # Mensaje de error\n",
    "    print(f\"❌ Error al obtener las variables de entorno: {e}\")"
   ]
  },
  {
   "cell_type": "markdown",
   "id": "ea7db91f",
   "metadata": {},
   "source": [
    "### OJOOOOOOOOOOOOOOOOO REVISAR ####\n",
    "\n",
    "if hoy.date() > fecha_programada.date():           # Verificar si hoy paso la fecha programada\n",
    "ESTA ES LA QUE FUNCIONA\n",
    "\n",
    "\n",
    "if hoy.date() >= fecha_programada.date():           # Verificar si hoy paso la fecha programada\n",
    "ESTA ES LA PROPUESTA\n",
    "\n"
   ]
  },
  {
   "cell_type": "code",
   "execution_count": 129,
   "id": "163421eb",
   "metadata": {},
   "outputs": [
    {
     "name": "stdout",
     "output_type": "stream",
     "text": [
      "✅ Fecha de corte del saldo del sistema calculada: 2025-08-31\n"
     ]
    }
   ],
   "source": [
    "### CALCULAR FECHA DE CORTE DEL SALDO DEL SISTEMA ###\n",
    "\n",
    "try:\n",
    "    # Convertir la fecha de hoy a un objeto datetime\n",
    "    data_pagaduria[\"FECHA\"] = pd.to_datetime(data_pagaduria[\"FECHA\"])\n",
    "\n",
    "    # Obtener fecha programada de pagaduría\n",
    "    fecha_programada = pd.to_datetime(data_pagaduria.loc[data_pagaduria[\"PAGADURIA\"] == pagaduria, \"FECHA\"].values[0])\n",
    "\n",
    "    # Calcular corte_saldo_sistema\n",
    "    #if hoy.date() >= fecha_programada.date():           # Verificar si hoy paso la fecha programada\n",
    "    if hoy.date() > fecha_programada.date():           # Verificar si hoy paso la fecha programada\n",
    "        año, mes = hoy.year, hoy.month                 # Si cumple, usar año y mes actual\n",
    "    else:\n",
    "        año, mes = (hoy.year - 1, 12) if hoy.month == 1 else (hoy.year, hoy.month - 1)   # Si no ha pasado, usar mes anterior\n",
    "\n",
    "    ultimo_dia = calendar.monthrange(año, mes)[1]                                        # Último día del mes calculado\n",
    "    corte_saldo_sistema = datetime(año, mes, ultimo_dia)                                 # Fecha de corte: último día del mes\n",
    "\n",
    "    # Mensaje\n",
    "    print(f\"✅ Fecha de corte del saldo del sistema calculada: {corte_saldo_sistema.strftime('%Y-%m-%d')}\")\n",
    "    \n",
    "except Exception as e:\n",
    "    # Mensaje de error\n",
    "    print(f\"❌ Error al calcular la fecha de corte del saldo del sistema: {e}\")"
   ]
  },
  {
   "cell_type": "code",
   "execution_count": 130,
   "id": "27799fe5",
   "metadata": {},
   "outputs": [
    {
     "name": "stdout",
     "output_type": "stream",
     "text": [
      "✅ Cuotas causadas calculadas: 47\n"
     ]
    }
   ],
   "source": [
    "### CALCULAR CUOTAS CAUSADAS PARA LA FECHA DE CORTE DEL SALDO DEL SISTEMA ###\n",
    "\n",
    "try:\n",
    "\n",
    "    # Cuotas causadas calculadas\n",
    "    diff = relativedelta(corte_saldo_sistema, pd.to_datetime(data.loc[data[\"nolibra\"] == nro_libranza, \"fecha_inicio_credito\"].values[0]))\n",
    "    cuotas_causadas = diff.years * 12 + diff.months + 1\n",
    "\n",
    "    print(f\"✅ Cuotas causadas calculadas: {cuotas_causadas}\")\n",
    "except Exception as e:\n",
    "    # Mensaje de error\n",
    "    print(f\"❌ Error al calcular las cuotas causadas: {e}\")"
   ]
  },
  {
   "cell_type": "markdown",
   "id": "6c455bf5",
   "metadata": {},
   "source": [
    "# 4. Desarrollar simulador"
   ]
  },
  {
   "cell_type": "code",
   "execution_count": 131,
   "id": "70f1a402",
   "metadata": {},
   "outputs": [
    {
     "name": "stdout",
     "output_type": "stream",
     "text": [
      "✅ Simulador configurado correctamente.\n"
     ]
    },
    {
     "name": "stderr",
     "output_type": "stream",
     "text": [
      "C:\\Users\\cientifico.datos\\AppData\\Local\\Temp\\ipykernel_12080\\2233916589.py:6: FutureWarning: 'M' is deprecated and will be removed in a future version, please use 'ME' instead.\n",
      "  fechas_pago = pd.date_range(start=fecha_inicio, periods=plazo, freq=\"M\")\n"
     ]
    }
   ],
   "source": [
    "### INFORMACION INICIAL DEL SIMULADOR ###\n",
    "\n",
    "try:\n",
    "\n",
    "    # Fechas de pago (al final de cada mes)\n",
    "    fechas_pago = pd.date_range(start=fecha_inicio, periods=plazo, freq=\"M\")\n",
    "\n",
    "    # Cuota fija mensual (fórmula francesa)\n",
    "    cuota = monto_prestado * (tasa_mensual * (1 + tasa_mensual) ** plazo) / ((1 + tasa_mensual) ** plazo - 1)\n",
    "\n",
    "    # Saldo inicial\n",
    "    saldo = monto_prestado\n",
    "\n",
    "    # Inicializar tabla amortización con fila saldo inicial\n",
    "    tabla = [{\n",
    "        \"N°\": 0,\n",
    "        \"FECHA\": \"\",\n",
    "        \"TASA LIQUIDACION\": \"\",\n",
    "        \"CUOTA\": \"\",\n",
    "        \"SEGURO DEUDORES\": round(seguro_deudor),\n",
    "        \"INTERES\": \"\",\n",
    "        \"AMORTIZACION\": \"\",\n",
    "        \"SALDO\": round(saldo)\n",
    "    }]\n",
    "\n",
    "    # Mensaje\n",
    "    print(\"✅ Simulador configurado correctamente.\")\n",
    "\n",
    "except Exception as e:\n",
    "    # Mensaje de error\n",
    "    print(f\"❌ Error al configurar el simulador: {e}\")"
   ]
  },
  {
   "cell_type": "code",
   "execution_count": 132,
   "id": "f93907fb",
   "metadata": {},
   "outputs": [
    {
     "name": "stdout",
     "output_type": "stream",
     "text": [
      "✅ Tabla de amortización generada correctamente.\n"
     ]
    }
   ],
   "source": [
    "### REALIZAR SIMULACION DE AMORTIZACION ###   \n",
    "\n",
    "try:\n",
    "    for i in range(int(plazo_meses)):\n",
    "        interes = saldo * tasa_mensual\n",
    "        amortizacion = cuota - interes\n",
    "\n",
    "        if i == plazo_meses - 1:\n",
    "            amortizacion = saldo\n",
    "            cuota = interes + amortizacion\n",
    "\n",
    "        saldo -= amortizacion\n",
    "\n",
    "        fila = {\n",
    "            \"N°\": i + 1,\n",
    "            \"FECHA\": fechas_pago[i].strftime(\"%d/%m/%Y\"),\n",
    "            \"TASA LIQUIDACION\": f\"{tasa_mensual * 100:.5f}%\",\n",
    "            \"CUOTA\": round(cuota),\n",
    "            \"SEGURO DEUDORES\": round(seguro_deudor),\n",
    "            \"INTERES\": round(interes),\n",
    "            \"AMORTIZACION\": round(amortizacion),\n",
    "            \"SALDO\": round(max(saldo, 0))\n",
    "        }\n",
    "        tabla.append(fila)\n",
    "\n",
    "    # Convertir a DataFrame\n",
    "    df = pd.DataFrame(tabla)\n",
    "    \n",
    "    # Convertir FECHA a datetime para merge posterior\n",
    "    df[\"FECHA\"] = pd.to_datetime(df[\"FECHA\"], format=\"%d/%m/%Y\", errors=\"coerce\")\n",
    "\n",
    "    # Mensaje\n",
    "    print(\"✅ Tabla de amortización generada correctamente.\")\n",
    "except Exception as e:\n",
    "    # Mensaje de error\n",
    "    print(f\"❌ Error al generar la tabla de amortización: {e}\")"
   ]
  },
  {
   "cell_type": "code",
   "execution_count": 133,
   "id": "a2b653ed",
   "metadata": {},
   "outputs": [
    {
     "name": "stdout",
     "output_type": "stream",
     "text": [
      "✅ Datos de tasa usura descargados correctamente.\n"
     ]
    }
   ],
   "source": [
    "### CARGAR DATOS DE TASA USURA ###\n",
    "\n",
    "try:\n",
    "    # Convertir fechas a datetime\n",
    "    df_tasa_usura[\"Fecha Inicio\"] = pd.to_datetime(df_tasa_usura[\"Fecha Inicio\"])\n",
    "    df_tasa_usura[\"Fecha Fin\"] = pd.to_datetime(df_tasa_usura[\"Fecha Fin\"])\n",
    "\n",
    "    # Expandir rangos de fechas para usura (un día por fila)\n",
    "    rangos_usura = []\n",
    "    for _, fila in df_tasa_usura.iterrows():\n",
    "        fechas = pd.date_range(start=fila[\"Fecha Inicio\"], end=fila[\"Fecha Fin\"], freq=\"D\")\n",
    "        for fecha in fechas:\n",
    "            rangos_usura.append({\"FECHA\": fecha, \"TASA_USURA\": fila[\"TASA_USURA\"]})\n",
    "\n",
    "    # Crear DataFrame de rangos de usura        \n",
    "    df_rangos_usura = pd.DataFrame(rangos_usura)\n",
    "\n",
    "    # Mensaje\n",
    "    print(\"✅ Datos de tasa usura descargados correctamente.\")\n",
    "\n",
    "except Exception as e:\n",
    "    # Mensaje de error\n",
    "    print(f\"❌ Error al descargar los datos de tasa usura: {e}\")"
   ]
  },
  {
   "cell_type": "code",
   "execution_count": 134,
   "id": "012d053b",
   "metadata": {},
   "outputs": [
    {
     "name": "stdout",
     "output_type": "stream",
     "text": [
      "✅ Datos de tasa usura unidos correctamente.\n"
     ]
    }
   ],
   "source": [
    "### UNIR DATOS DE TASA USURA AL DATA FRAMDE LA SIMULACION ###\n",
    "\n",
    "try:\n",
    "    # Unir con tasa de usura y reordenar columnas\n",
    "    df = df.merge(df_rangos_usura, on=\"FECHA\", how=\"left\")\n",
    "\n",
    "    # Rellenar NaN en TASA_USURA con 0\n",
    "    df[\"TASA_USURA\"] = df[\"TASA_USURA\"].fillna(0)\n",
    "\n",
    "    # Reordenar para que tasa_usura quede justo después de tasa_liquidacion\n",
    "    columnas = df.columns.tolist()\n",
    "    posicion = columnas.index(\"TASA LIQUIDACION\") + 1\n",
    "    columnas.insert(posicion, columnas.pop(columnas.index(\"TASA_USURA\")))\n",
    "    df = df[columnas]\n",
    "\n",
    "    # Mensaje\n",
    "    print(\"✅ Datos de tasa usura unidos correctamente.\")\n",
    "except Exception as e:\n",
    "    # Mensaje de error\n",
    "    print(f\"❌ Error al unir los datos de tasa usura: {e}\")"
   ]
  },
  {
   "cell_type": "code",
   "execution_count": 135,
   "id": "493f06f0",
   "metadata": {},
   "outputs": [
    {
     "name": "stdout",
     "output_type": "stream",
     "text": [
      "✅ Tabla de amortización generada correctamente.\n"
     ]
    }
   ],
   "source": [
    "### ARMAR NUEVA TABLA DE AMORTIZACION CON LA TASA DE USURA ###\n",
    "\n",
    "try:\n",
    "    # Crear una copia del DataFrame original   \n",
    "    df_ajustado = df.copy()\n",
    "\n",
    "    # Convertir tasa_liquidacion a decimal\n",
    "    df_ajustado[\"TASA_LIQUIDACION_VALOR\"] = (\n",
    "        pd.to_numeric(\n",
    "            df_ajustado[\"TASA LIQUIDACION\"].str.replace(\"%\", \"\", regex=False).str.replace(\",\", \".\"),\n",
    "            errors=\"coerce\"\n",
    "        ) / 100\n",
    "    )\n",
    "\n",
    "    # Calcular tasa aplicada (mínimo entre tasa_liq y tasa_usura si existe)\n",
    "    df_ajustado[\"TASA APLICADA\"] = df_ajustado.apply(\n",
    "        lambda fila: fila[\"TASA_LIQUIDACION_VALOR\"]\n",
    "        if pd.isna(fila.get(\"TASA_USURA\", float(\"nan\"))) or fila.get(\"TASA_USURA\", 0) == 0\n",
    "        else min(fila[\"TASA_LIQUIDACION_VALOR\"], fila[\"TASA_USURA\"]),\n",
    "        axis=1\n",
    "    )\n",
    "\n",
    "    # Obtener cuota de fila 1 para usar después\n",
    "    cuota = df_ajustado.loc[1, \"CUOTA\"] if 1 in df_ajustado.index and \"CUOTA\" in df_ajustado.columns else 0\n",
    "\n",
    "    # Llamar variables inici\n",
    "    saldo = monto_prestado\n",
    "    acumulado_interes = 0\n",
    "\n",
    "    # Calcular saldo inicial\n",
    "    def formatear(numero, decimales=0):\n",
    "        if pd.isna(numero):\n",
    "            return \"\"\n",
    "        return f\"{numero:,.{decimales}f}\".replace(\",\", \"X\").replace(\".\", \",\").replace(\"X\", \".\")\n",
    "    \n",
    "    # Inicializar lista de filas para el DataFrame final\n",
    "    filas = []\n",
    "    filas.append({\n",
    "        \"Nº\": 0,\n",
    "        \"FECHA\": \"\",\n",
    "        \"TASA_LIQUIDACIÓN\": \"\",\n",
    "        \"TASA DE USURA\": \"\",\n",
    "        \"SEGURO DEUDORES\": \"\",\n",
    "        \"FINANCIACIÓN CAPITAL\": \"\",\n",
    "        \"AMORTIZACIÓN CAPITAL\": \"\",\n",
    "        \"SALDO CAPITAL\": formatear(saldo, 0),\n",
    "        \"Acumulado_financiacion_capital\": \"\"\n",
    "    })\n",
    "\n",
    "    # Recorrer el plazo completo\n",
    "    for i in range(1, round(plazo) + 1):\n",
    "        f = df_ajustado.iloc[i]\n",
    "        tasa_liq = f[\"TASA_LIQUIDACION_VALOR\"]\n",
    "        tasa_usura = f.get(\"TASA_USURA\", float(\"nan\"))\n",
    "        tasa_aplicada = f[\"TASA APLICADA\"]\n",
    "        interes = saldo * tasa_aplicada\n",
    "        amort = cuota - interes\n",
    "        saldo -= amort\n",
    "        acumulado_interes += interes\n",
    "\n",
    "        # Manejo de fecha\n",
    "        fecha_str = \"\"\n",
    "        if \"FECHA\" in f and pd.notna(f[\"FECHA\"]):\n",
    "            try:\n",
    "                fecha_str = pd.to_datetime(f[\"FECHA\"]).strftime(\"%d/%m/%Y\")\n",
    "            except Exception:\n",
    "                fecha_str = str(f[\"FECHA\"])\n",
    "        filas.append({\n",
    "            \"Nº\": int(f[\"N°\"]) if \"N°\" in f and pd.notna(f[\"N°\"]) else i,\n",
    "            \"FECHA\": fecha_str,\n",
    "            \"TASA_LIQUIDACIÓN\": formatear(tasa_liq * 100, 5) + \"%\" if pd.notna(tasa_liq) else \"\",\n",
    "            \"TASA DE USURA\": \"\" if pd.isna(tasa_usura) or tasa_usura == 0 else formatear(tasa_usura * 100, 6) + \"%\",\n",
    "            \"SEGURO DEUDORES\": formatear(f.get(\"SEGURO DEUDORES\", 0), 0),\n",
    "            \"FINANCIACIÓN CAPITAL\": formatear(interes, 0),\n",
    "            \"AMORTIZACIÓN CAPITAL\": formatear(amort, 0),\n",
    "            \"SALDO CAPITAL\": formatear(saldo, 0),\n",
    "            \"Acumulado_financiacion_capital\": formatear(acumulado_interes, 0)\n",
    "        })\n",
    "\n",
    "    # Construir el DataFrame final\n",
    "    df_final = pd.DataFrame(filas)[[\n",
    "        \"Nº\", \"FECHA\", \"TASA_LIQUIDACIÓN\", \"TASA DE USURA\",\n",
    "        \"SEGURO DEUDORES\", \"FINANCIACIÓN CAPITAL\",\n",
    "        \"AMORTIZACIÓN CAPITAL\", \"SALDO CAPITAL\", \"Acumulado_financiacion_capital\"\n",
    "    ]]\n",
    "\n",
    "    # Mensaje\n",
    "    print(\"✅ Tabla de amortización generada correctamente.\")\n",
    "\n",
    "except Exception as e:\n",
    "    # Mensaje de error\n",
    "    print(f\"❌ Error al generar la tabla de amortización: {e}\")"
   ]
  },
  {
   "cell_type": "code",
   "execution_count": 136,
   "id": "6c82911b",
   "metadata": {},
   "outputs": [
    {
     "name": "stdout",
     "output_type": "stream",
     "text": [
      "✅ Cuotas pagas calculadas: 48.0\n"
     ]
    }
   ],
   "source": [
    "### CALCULAR CUOTAS PAGAS ###\n",
    "\n",
    "try:    \n",
    "    # Asegúrate que fecha_data es un datetime\n",
    "    fecha_data = pd.to_datetime(data.loc[data[\"nolibra\"] == nro_libranza, \"fecha_data\"].values[0])\n",
    "\n",
    "    # Calcular diferencia en meses entre fecha_data y corte\n",
    "    diff = relativedelta(corte_saldo_sistema, fecha_data)\n",
    "    meses_adicionales = diff.years * 12 + diff.months\n",
    "\n",
    "    # Cuotas pagadas = las que ya se habían pagado a la fecha_data + las adicionales desde entonces\n",
    "    cuotas_pagas_base = plazo - (saldo_cierre_mes_0 / cuotadef)\n",
    "    cuotas_pagas = cuotas_pagas_base + meses_adicionales\n",
    "\n",
    "    # Mensaje\n",
    "    print(f\"✅ Cuotas pagas calculadas: {cuotas_pagas}\")\n",
    "\n",
    "except Exception as e:\n",
    "    # Mensaje de error\n",
    "    print(f\"❌ Error al calcular las cuotas pagas: {e}\")"
   ]
  },
  {
   "cell_type": "code",
   "execution_count": 137,
   "id": "b092afc2",
   "metadata": {},
   "outputs": [
    {
     "name": "stdout",
     "output_type": "stream",
     "text": [
      "✅ Parámetros iniciales para calcular saldo actual del sistema obtenidos correctamente.\n",
      "Tasa usura: 1,888465%\n",
      "Tasa liquidación: 1,75000%\n",
      "Saldo capital base: 5888318.0\n",
      "Días restantes mes: 23\n",
      "Subtotal obligación proporcional (intereses prorrateados): 76453.16\n"
     ]
    }
   ],
   "source": [
    "### PARAMETROS INCIALES PARA CALCULAR SALDO ACTUAL DEL SISTEMA ###\n",
    "\n",
    "try:\n",
    "    # Con esta linea evitar que hayan errores en los siguientes pasos\n",
    "    df_final[\"Nº\"] = pd.to_numeric(df_final[\"Nº\"], errors=\"coerce\")  \n",
    "    cuotas_causadas = int(cuotas_causadas)\n",
    "    cuotas_pagas = int(cuotas_pagas)\n",
    "\n",
    "    try:\n",
    "        # Obtener tasas en formato string desde df_final\n",
    "        tasa_usura_str = df_final.loc[df_final[\"Nº\"] == cuotas_pagas, \"TASA DE USURA\"].values[0]\n",
    "        tasa_liq_str = df_final.loc[df_final[\"Nº\"] == cuotas_pagas, \"TASA_LIQUIDACIÓN\"].values[0]\n",
    "    except KeyError:\n",
    "        raise KeyError(f\"No se encontraron tasas para cuotas pagas: {cuotas_pagas}. Verifica que la tabla tenga suficientes filas.\")\n",
    "\n",
    "    # Limpiar y convertir a float\n",
    "    tasa_usura = float(tasa_usura_str.replace('%', '').replace(',', '.'))\n",
    "    tasa_liq = float(tasa_liq_str.replace('%', '').replace(',', '.'))\n",
    "\n",
    "    # Elegir tasa mínima y pasar a decimal\n",
    "    tasa = min(tasa_usura, tasa_liq) / 100\n",
    "    #print(f\"Tasa aplicada: {tasa:.6f}\")\n",
    "\n",
    "    # Extraer saldo capital y convertir a float\n",
    "    saldo_capital_str = df_final.loc[df_final[\"Nº\"] == cuotas_pagas, \"SALDO CAPITAL\"].values[0]\n",
    "    saldo_capital = float(str(saldo_capital_str).replace('.', '').replace(',', '.'))\n",
    "    #print(f\"Saldo capital base: {saldo_capital}\")\n",
    "\n",
    "    # Calcular subtotal obligación mensual por intereses\n",
    "    dias_mes = calendar.monthrange(datetime.today().year, datetime.today().month)[1]\n",
    "    subtotal_obligacion_mensual = (saldo_capital * tasa) / dias_mes\n",
    "\n",
    "    # Calcular días restantes del mes y subtotal obligación proporcional\n",
    "    dias_restantes = dias_mes - datetime.today().day\n",
    "    subtotal_obligacion_proporcional = subtotal_obligacion_mensual * dias_restantes\n",
    "\n",
    "    # Mensaje\n",
    "    print(f\"✅ Parámetros iniciales para calcular saldo actual del sistema obtenidos correctamente.\")\n",
    "    print(f\"Tasa usura: {tasa_usura_str}\")\n",
    "    print(f\"Tasa liquidación: {tasa_liq_str}\")\n",
    "    print(f\"Saldo capital base: {saldo_capital}\")\n",
    "    print(f\"Días restantes mes: {dias_restantes}\")\n",
    "    print(f\"Subtotal obligación proporcional (intereses prorrateados): {subtotal_obligacion_proporcional:.2f}\")\n",
    "\n",
    "except Exception as e:\n",
    "    # Mensaje de error\n",
    "    print(f\"❌ Error al obtener los parámetros iniciales: {e}\")"
   ]
  },
  {
   "cell_type": "code",
   "execution_count": 138,
   "id": "094a5b8f",
   "metadata": {},
   "outputs": [
    {
     "name": "stdout",
     "output_type": "stream",
     "text": [
      "✅ N° limpiado correctamente.\n"
     ]
    }
   ],
   "source": [
    "### LIMPIAR EL N° ###\n",
    "\n",
    "try:\n",
    "    \n",
    "    # Función para extraer acumulados limpiando formato\n",
    "    def obtener_acumulado(df, numero):\n",
    "        valor = df.loc[df[\"Nº\"] == numero, \"Acumulado_financiacion_capital\"].values\n",
    "        if len(valor) == 0 or str(valor[0]).strip() == '':\n",
    "            return 0.0\n",
    "        valor_limpio = str(valor[0]).replace('.', '').replace(',', '.')\n",
    "        return float(valor_limpio)\n",
    "    \n",
    "    # Mensaje\n",
    "    print(\"✅ N° limpiado correctamente.\")\n",
    "\n",
    "except Exception as e:\n",
    "    # Mensaje de error\n",
    "    print(f\"❌ Error al limpiar el N°: {e}\")"
   ]
  },
  {
   "cell_type": "code",
   "execution_count": null,
   "id": "b181ab6c",
   "metadata": {},
   "outputs": [
    {
     "name": "stdout",
     "output_type": "stream",
     "text": [
      "✅ Datos de salida calculados correctamente.\n",
      "{'nro_libranza': 43827, 'fecha_inicio': '2021-09-30', 'cuotas_causadas': 47, 'cuotas_pagas': 48, 'saldo actual': np.float64(5701061.53875), 'fecha_corte': Timestamp('2025-08-01 00:00:00'), 'mes_nomina': 'Agosto'}\n"
     ]
    }
   ],
   "source": [
    "### CALCULAR DATOS DE SALIDA ###\n",
    "\n",
    "try:\n",
    "    # Comparar cuotas pagas y causadas para calcular ajuste acumulado\n",
    "    if cuotas_pagas == cuotas_causadas:\n",
    "        resultado = 0\n",
    "    elif cuotas_causadas > cuotas_pagas:\n",
    "        resultado = obtener_acumulado(df_final, cuotas_causadas) - obtener_acumulado(df_final, cuotas_pagas)\n",
    "    else:\n",
    "        resultado = obtener_acumulado(df_final, cuotas_pagas) - obtener_acumulado(df_final, cuotas_causadas)\n",
    "    #print(f\"Diferencia acumulados (resultado): {resultado:.2f}\")\n",
    "\n",
    "    # Calcular base cálculo para días de liquidación (saldo capital a cuotas causadas)\n",
    "    fila_base_calculo = cuotas_causadas\n",
    "    valor_base_calc = df_final.loc[df_final[\"Nº\"] == fila_base_calculo, \"SALDO CAPITAL\"].values\n",
    "    base_calculo = float(str(valor_base_calc[0]).replace('.', '').replace(',', '.')) if len(valor_base_calc) else 0.0\n",
    "\n",
    "    # Calcular días para liquidar y resultado proporcional\n",
    "    fecha_hoy = datetime.today()\n",
    "    dias_liquidar = (fecha_hoy - corte_saldo_sistema).days\n",
    "    if fecha_hoy == corte_saldo_sistema:\n",
    "        resultado_2 = 0\n",
    "    else:\n",
    "        resultado_2 = base_calculo * (tasa / 30) * dias_liquidar\n",
    "    #print(f\"Resultado días liquidar (resultado_2): {resultado_2:.2f}\")\n",
    "\n",
    "    # Calcular saldo de seguros proporcional\n",
    "    saldo_seguros = (cuotas_causadas * seguro_deudor) - (cuotas_pagas * seguro_deudor)\n",
    "    #print(f\"Saldo seguros: {saldo_seguros:.2f}\")\n",
    "\n",
    "    # Calcular saldo actual sumando todos los componentes\n",
    "    saldo_actual = saldo_capital - resultado + resultado_2 + saldo_seguros\n",
    "    #print(f\"Saldo actual calculado: {saldo_actual:.2f}\")\n",
    "\n",
    "    # Obtener tabla de amortizacion (opcional)\n",
    "    tabla_amortizacion = df_final.to_dict(orient=\"records\")\n",
    "    # Convertir a DataFrame para facilitar visualización\n",
    "    df_tabla_amortizacion = pd.DataFrame(tabla_amortizacion)\n",
    "\n",
    "\n",
    "\n",
    "    ### CALCULAR MES DE DONDE SE AFECTA LA NOMINA ####\n",
    "    \n",
    "    # Diccionario de mes de Ingles a Español\n",
    "    meses_es = {\n",
    "        'January': 'Enero', 'February': 'Febrero', 'March': 'Marzo',\n",
    "        'April': 'Abril', 'May': 'Mayo', 'June': 'Junio',\n",
    "        'July': 'Julio', 'August': 'Agosto', 'September': 'Septiembre',\n",
    "        'October': 'Octubre', 'November': 'Noviembre', 'December': 'Diciembre'\n",
    "    }\n",
    "    # Fecha actual\n",
    "    today = pd.Timestamp(datetime.today())\n",
    "    # Suponiendo que fecha_programada es datetime.date\n",
    "    if today >= fecha_programada:\n",
    "        mes = today.strftime(\"%B\")\n",
    "    else:\n",
    "        # Obtener el mes anterior (restando 1 día al primer día del mes actual)\n",
    "        mes_pasado = (today.replace(day=1) - pd.DateOffset(days=1)).strftime(\"%B\")\n",
    "        mes = mes_pasado\n",
    "    # Traducir a español y capitalizar\n",
    "    mes_nomina = meses_es.get(mes, mes).capitalize()\n",
    "\n",
    "\n",
    "\n",
    "\n",
    "\n",
    "\n",
    "    # Resultado final\n",
    "    resultado = {\n",
    "        \"nro_libranza\": nro_libranza,\n",
    "        \"fecha_inicio\": fecha_inicio.strftime(\"%Y-%m-%d\"),\n",
    "        \"cuotas_causadas\": cuotas_causadas,\n",
    "        \"cuotas_pagas\": cuotas_pagas,\n",
    "        \"saldo actual\": saldo_actual,\n",
    "        \"fecha_corte\": fecha_programada,\n",
    "        \"mes_nomina\": mes_nomina,\n",
    "    }\n",
    "    \n",
    "    # Mensaje\n",
    "    print(\"✅ Datos de salida calculados correctamente.\")\n",
    "    print(resultado) # resultados es la informacion objetivo de la simulacion\n",
    "\n",
    "except Exception as e:\n",
    "    # Mensaje de error\n",
    "    print(f\"❌ Error al calcular los datos de salida: {e}\")"
   ]
  }
 ],
 "metadata": {
  "kernelspec": {
   "display_name": "Python 3",
   "language": "python",
   "name": "python3"
  },
  "language_info": {
   "codemirror_mode": {
    "name": "ipython",
    "version": 3
   },
   "file_extension": ".py",
   "mimetype": "text/x-python",
   "name": "python",
   "nbconvert_exporter": "python",
   "pygments_lexer": "ipython3",
   "version": "3.13.5"
  }
 },
 "nbformat": 4,
 "nbformat_minor": 5
}
